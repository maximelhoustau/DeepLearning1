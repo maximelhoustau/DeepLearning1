{
  "nbformat": 4,
  "nbformat_minor": 0,
  "metadata": {
    "kernelspec": {
      "name": "python3",
      "display_name": "Python 3"
    },
    "language_info": {
      "codemirror_mode": {
        "name": "ipython",
        "version": 3
      },
      "file_extension": ".py",
      "mimetype": "text/x-python",
      "name": "python",
      "nbconvert_exporter": "python",
      "pygments_lexer": "ipython3",
      "version": "3.7.4"
    },
    "colab": {
      "name": "tp_deep_learning_cnn_part_1_for_students.ipynb",
      "provenance": [],
      "collapsed_sections": []
    },
    "accelerator": "GPU"
  },
  "cells": [
    {
      "cell_type": "markdown",
      "metadata": {
        "id": "-QnqVHTqRmXU",
        "colab_type": "text"
      },
      "source": [
        "# TP Coding Convolutional Neural Networks in tensorflow and keras\n",
        "\n",
        "TP author : Geoffroy Peeters, Alasdair Newson\n",
        "\n",
        "### Objective:\n",
        "\n",
        "We want to implement a Convolutional Neural Network (CNN) to do image recognition. For this we will use the well-known CIFAR-10 dataset https://www.cs.toronto.edu/~kriz/cifar.html.\n",
        "\n",
        "The CIFAR-10 dataset consists of 60000 32x32 colour images in 10 classes, with 6000 images per class. There are 50000 training images and 10000 test images.\n",
        "\n",
        "We will first code the simple ConvNet described below using \n",
        "- tensorflow https://www.tensorflow.org\n",
        "\n",
        "then do the same using\n",
        "- keras : https://keras.io\n",
        "\n",
        "\n",
        "The input of the CNN is a set of (32,32,3) image tensors. We apply :\n",
        "\n",
        "    - a Convolutional layer of 32 filters of shape (3,3), with stride (1,1) and padding='same' (i.e. we do not apply zero-padding)\n",
        "    - a ReLu activation function\n",
        "    \n",
        "    - a Convolutional layer of 32 filters of shape (3,3), with stride (1,1) and padding='same' (i.e. we do not apply zero-padding)\n",
        "    - a ReLu activation function\n",
        "    - a Max Pooling Layer of shape (2,2) and stride (2,2) (i.e. we reduce by two the size in each dimension)\n",
        "    \n",
        "    - a Convolutional layer of 32 filters of shape (3,3), with stride (1,1) and padding='same' (i.e. we do not apply zero-padding)\n",
        "    - a ReLu activation function\n",
        "    - a Max Pooling Layer of shape (2,2) and stride (2,2) (i.e. we reduce by two the size in each dimension)\n",
        "    \n",
        "    - We then Flatten the data (reduce them to a vector in order to be able to apply a Fully-Connected layer to it)\n",
        "    - A softmax activation function which outputs are the $P(y_c | X)$ (multi-class problem)\n",
        "\n",
        "### Your task:\n",
        "You need to add the missing parts in the code (parts between # --- START CODE HERE and # --- END CODE HERE)"
      ]
    },
    {
      "cell_type": "markdown",
      "metadata": {
        "id": "J2BP6tkRRmXW",
        "colab_type": "text"
      },
      "source": [
        "# Load packages"
      ]
    },
    {
      "cell_type": "code",
      "metadata": {
        "id": "L2SeSbxgRmXX",
        "colab_type": "code",
        "colab": {}
      },
      "source": [
        "%matplotlib inline\n",
        "import matplotlib.pyplot as plt\n",
        "import numpy as np"
      ],
      "execution_count": 0,
      "outputs": []
    },
    {
      "cell_type": "markdown",
      "metadata": {
        "id": "ln8a2zDMRmXZ",
        "colab_type": "text"
      },
      "source": [
        "## Import data\n",
        "\n",
        "We first import CIFAR-10 dataset."
      ]
    },
    {
      "cell_type": "code",
      "metadata": {
        "id": "GCT617C4RmXa",
        "colab_type": "code",
        "colab": {
          "base_uri": "https://localhost:8080/",
          "height": 165
        },
        "outputId": "0057b1f5-11a6-445d-cf94-e26479396d73"
      },
      "source": [
        "from keras.utils.np_utils import to_categorical\n",
        "\n",
        "from keras.datasets import cifar10\n",
        "(X_train, y_train), (X_test, y_test) = cifar10.load_data()\n",
        "\n",
        "print(X_train.shape)\n",
        "print(X_test.shape)\n",
        "print(np.unique(y_train))"
      ],
      "execution_count": 2,
      "outputs": [
        {
          "output_type": "stream",
          "text": [
            "Using TensorFlow backend.\n"
          ],
          "name": "stderr"
        },
        {
          "output_type": "display_data",
          "data": {
            "text/html": [
              "<p style=\"color: red;\">\n",
              "The default version of TensorFlow in Colab will soon switch to TensorFlow 2.x.<br>\n",
              "We recommend you <a href=\"https://www.tensorflow.org/guide/migrate\" target=\"_blank\">upgrade</a> now \n",
              "or ensure your notebook will continue to use TensorFlow 1.x via the <code>%tensorflow_version 1.x</code> magic:\n",
              "<a href=\"https://colab.research.google.com/notebooks/tensorflow_version.ipynb\" target=\"_blank\">more info</a>.</p>\n"
            ],
            "text/plain": [
              "<IPython.core.display.HTML object>"
            ]
          },
          "metadata": {
            "tags": []
          }
        },
        {
          "output_type": "stream",
          "text": [
            "Downloading data from https://www.cs.toronto.edu/~kriz/cifar-10-python.tar.gz\n",
            "170500096/170498071 [==============================] - 6s 0us/step\n",
            "(50000, 32, 32, 3)\n",
            "(10000, 32, 32, 3)\n",
            "[0 1 2 3 4 5 6 7 8 9]\n"
          ],
          "name": "stdout"
        }
      ]
    },
    {
      "cell_type": "markdown",
      "metadata": {
        "id": "DB5FoeaZRmXc",
        "colab_type": "text"
      },
      "source": [
        "The CIFAR-10 dataset has 10 classes. These are the following :"
      ]
    },
    {
      "cell_type": "code",
      "metadata": {
        "id": "zYRtPeFwRmXd",
        "colab_type": "code",
        "colab": {}
      },
      "source": [
        "cifar_10_list = [ 'airplane', 'automobile','bird','cat','deer','dog','frog','horse','ship','truck']"
      ],
      "execution_count": 0,
      "outputs": []
    },
    {
      "cell_type": "markdown",
      "metadata": {
        "id": "d2XWiDvDRmXf",
        "colab_type": "text"
      },
      "source": [
        "### Display some of the images"
      ]
    },
    {
      "cell_type": "code",
      "metadata": {
        "id": "9L5qbunlRmXg",
        "colab_type": "code",
        "colab": {
          "base_uri": "https://localhost:8080/",
          "height": 338
        },
        "outputId": "682fb861-55a1-47d4-87d3-a3c2358375cf"
      },
      "source": [
        "plt.figure(figsize=(10, 6))\n",
        "for idx,i in enumerate(range(100,110)):\n",
        "    plt.subplot(2, 5, idx+1)\n",
        "    plt.imshow(X_train[i, :, :, :])\n",
        "    plt.title(cifar_10_list[int(y_train[i])])"
      ],
      "execution_count": 4,
      "outputs": [
        {
          "output_type": "display_data",
          "data": {
            "image/png": "[encoded data removed]",
            "text/plain": [
              "<Figure size 720x432 with 10 Axes>"
            ]
          },
          "metadata": {
            "tags": []
          }
        }
      ]
    },
    {
      "cell_type": "code",
      "metadata": {
        "id": "l8ejUTMbRmXi",
        "colab_type": "code",
        "colab": {
          "base_uri": "https://localhost:8080/",
          "height": 34
        },
        "outputId": "d13081c9-7f91-46da-b6ab-bf40e5842b33"
      },
      "source": [
        "y_train.shape"
      ],
      "execution_count": 5,
      "outputs": [
        {
          "output_type": "execute_result",
          "data": {
            "text/plain": [
              "(50000, 1)"
            ]
          },
          "metadata": {
            "tags": []
          },
          "execution_count": 5
        }
      ]
    },
    {
      "cell_type": "markdown",
      "metadata": {
        "id": "8OIFFBSZRmXk",
        "colab_type": "text"
      },
      "source": [
        "## Format conversion\n",
        "\n",
        "We now convert the format of the data. In the case of CNNs, and contrary to MLPs, the inputs are not simply vectors of arbitrary size. For example, in the case of images, it is important to distinguish the different dimensions (otherwise the network would not know how to carry out convolutions). Therefore, you need to carry out the following operation :\n",
        "\n",
        "- reshape the input ```X_train```and ```X_test``` to a set of matrices of size (32,32) and depth 3 (for the 3 R,G,B colors), convert the data to float32 and normalize them in the range [0,1]. The final dimensions of the image data should be : [batch_size, height, width, n_channels]\n",
        "\n",
        "Furthermore, as in the previous lab work, you must also convert the label vectors to matrices with k columns, where k is the number of classes. This allows us to carry out the cross-entropy for multi-class problems. Therefore :\n",
        "\n",
        "- convert the output label ```y_train``` and ```y_test``` to one-hot encoding format."
      ]
    },
    {
      "cell_type": "code",
      "metadata": {
        "id": "PNCBUKpORmXl",
        "colab_type": "code",
        "colab": {
          "base_uri": "https://localhost:8080/",
          "height": 119
        },
        "outputId": "8b84120c-69d4-42a5-ae45-5fd911e07b86"
      },
      "source": [
        "# input image dimensions\n",
        "img_rows, img_cols, nb_channels = 32, 32, 3\n",
        "nb_classes = 10\n",
        "\n",
        "# In case depth is 1 (black and white pictures) -> reshape to proper format\n",
        "X_train = X_train.reshape(X_train.shape[0], img_rows, img_cols, nb_channels)\n",
        "X_test = X_test.reshape(X_test.shape[0], img_rows, img_cols, nb_channels)\n",
        "\n",
        "X_train = X_train.astype('float32')\n",
        "X_test = X_test.astype('float32')\n",
        "X_train /= 255\n",
        "X_test /= 255\n",
        "\n",
        "Y_train = to_categorical(y_train)\n",
        "Y_test = to_categorical(y_test)\n",
        "\n",
        "print('X_train shape:', X_train.shape)\n",
        "print('y_train shape:', y_train.shape)\n",
        "print('Y_train shape:', Y_train.shape)\n",
        "print('There is {} train data'.format(X_train.shape[0]))\n",
        "print('There is {} test data'.format(X_test.shape[0]))\n",
        "print(img_rows, img_cols, nb_channels)"
      ],
      "execution_count": 6,
      "outputs": [
        {
          "output_type": "stream",
          "text": [
            "X_train shape: (50000, 32, 32, 3)\n",
            "y_train shape: (50000, 1)\n",
            "Y_train shape: (50000, 10)\n",
            "There is 50000 train data\n",
            "There is 10000 test data\n",
            "32 32 3\n"
          ],
          "name": "stdout"
        }
      ]
    },
    {
      "cell_type": "markdown",
      "metadata": {
        "id": "pKjJVjC3RmXn",
        "colab_type": "text"
      },
      "source": [
        "For memory and speed reasons, we are going to reduce the amount of training data :"
      ]
    },
    {
      "cell_type": "code",
      "metadata": {
        "id": "UJ6HAYgDRmXn",
        "colab_type": "code",
        "colab": {
          "base_uri": "https://localhost:8080/",
          "height": 51
        },
        "outputId": "6089d454-cbf0-4d9f-98cd-0419b73d793f"
      },
      "source": [
        "n_train_samples = 10000\n",
        "X_train = X_train[0:n_train_samples,:,:,:]\n",
        "Y_train = Y_train[0:n_train_samples,:]\n",
        "print(X_train.shape)\n",
        "print(Y_train.shape)"
      ],
      "execution_count": 7,
      "outputs": [
        {
          "output_type": "stream",
          "text": [
            "(10000, 32, 32, 3)\n",
            "(10000, 10)\n"
          ],
          "name": "stdout"
        }
      ]
    },
    {
      "cell_type": "markdown",
      "metadata": {
        "id": "tbbRH4lwRmXp",
        "colab_type": "text"
      },
      "source": [
        "# 1. CNN with tensorflow\n",
        "\n",
        "We are now going to create a CNN with Tensorflow, and train it on the previously loaded CIFAR dataset.\n",
        "- First define the input and output using ```tf.placeholder```\n",
        "- Define the weights and biases of the CNN using ```tf.variable``` or ```tf.get_variable```\n",
        "    - You can initialize them using ```tf.contrib.layers.xavier_initializer```(see https://www.tensorflow.org/api_docs/python/tf/contrib/layers/xavier_initializer)\n",
        "- Perform the convolution using ```tf.nn.conv2d``` \n",
        "- Apply the activation function using ```tf.nn.relu```\n",
        "- Perform the max pooling using ```tf.nn.max_pool```\n",
        "- Flatten the output of the convolution using ```tf.contrib.layers.flatten```\n",
        "- Perform the Fully-Connected part using ```tf.contrib.layers.fully_connected```\n",
        "\n",
        "Also, note that in Tensorflow, you can carry out the softmax + cross entropy all in one step with the following function :\n",
        "\n",
        "- ```tf.nn.softmax_cross_entropy_with_logits()```\n",
        "\n",
        "This has the advantage of being optimised and stabilised by the programmers who wrote Tensorflow, so that you do not have numerical problems.\n",
        "\n",
        "$\\textbf{IMPORTANT NOTE}$ : Please note that this part in Tensorflow is just so that you have had some experience with CNNs in Tensorflow. So do not spend a lot of time trying to get great accuracy results. If you want to do this, do it in the Keras part."
      ]
    },
    {
      "cell_type": "code",
      "metadata": {
        "id": "HKcOZBJoRmXq",
        "colab_type": "code",
        "colab": {}
      },
      "source": [
        "import tensorflow as tf\n",
        "\n",
        "learning_rate = 0.01\n",
        "n_epochs = 20\n",
        "batch_size = 64\n",
        "\n",
        "# number of convolutional filters to use\n",
        "nb_filters = 32\n",
        "# convolution kernel size\n",
        "kernel_size = (3, 3)\n",
        "# size of pooling area for max pooling\n",
        "pool_size = (2, 2)\n",
        "\n",
        "\n",
        "# --- Size of the successice layers\n",
        "n_h_0 = nb_channels\n",
        "n_h_1 = nb_filters\n",
        "n_h_2 = nb_filters\n",
        "n_h_3 = nb_filters"
      ],
      "execution_count": 0,
      "outputs": []
    },
    {
      "cell_type": "code",
      "metadata": {
        "id": "vJPL9xdMRmXt",
        "colab_type": "code",
        "colab": {
          "base_uri": "https://localhost:8080/",
          "height": 411
        },
        "outputId": "3e4ed64c-5739-4fd3-b32d-f6c04602e9d6"
      },
      "source": [
        "tf.reset_default_graph()\n",
        "\n",
        "# input tensor are of shape [batch, in_height, in_width, in_channels]  \n",
        "# filter / kernel tensor are of shape [filter_height, filter_width, in_channels, out_channels]\n",
        "\n",
        "# --- START CODE HERE\n",
        "RANDOM_SEED = 20\n",
        "tf.set_random_seed(seed=RANDOM_SEED)\n",
        "\n",
        "#X_input of shape [batch, in_height, in_width, in_channels]\n",
        "X_input = tf.placeholder(\"float\", shape=X_train.shape)\n",
        "Y_output = tf.placeholder(\"float\", shape=Y_train.shape)\n",
        "\n",
        "#Filters of shape [filter_height, filter_width, in_channels, out_channels]\n",
        "W1 = tf.get_variable(\"W1\", shape=[3,3,3,3], initializer=tf.contrib.layers.xavier_initializer())\n",
        "W2 = tf.get_variable(\"W2\", shape=[3,3,3,3], initializer=tf.contrib.layers.xavier_initializer())\n",
        "W3 = tf.get_variable(\"W3\", shape=[3,3,3,3], initializer=tf.contrib.layers.xavier_initializer())\n",
        "\n",
        "Y_pred = tf.nn.relu(tf.nn.conv2d(input=X_input, filter=W1, strides=[1,1,1,1], padding='SAME'))\n",
        "Y_pred = tf.nn.relu(tf.nn.conv2d(input=Y_pred, filter=W2, strides=[1,1,1,1], padding='SAME'))\n",
        "Y_pred = tf.nn.max_pool(Y_pred, strides=[1,2,2,1], padding='SAME', ksize=[1,2,2,1])\n",
        "Y_pred = tf.nn.relu(tf.nn.conv2d(input=Y_pred, filter=W3, strides=[1,1,1,1], padding='SAME'))\n",
        "Y_pred = tf.nn.max_pool(Y_pred, strides=[1,2,2,1], padding='SAME', ksize=[1,2,2,1])\n",
        "Y_pred = tf.contrib.layers.flatten(Y_pred)\n",
        "Z4 = tf.contrib.layers.fully_connected(Y_pred, num_outputs=10)\n",
        "\n",
        "# --- END CODE HERE\n",
        "\n",
        "cost = tf.reduce_mean(tf.nn.softmax_cross_entropy_with_logits(logits = Z4, labels = Y_output))\n",
        "optimizer = tf.train.AdamOptimizer(learning_rate = learning_rate).minimize(cost)"
      ],
      "execution_count": 9,
      "outputs": [
        {
          "output_type": "stream",
          "text": [
            "WARNING:tensorflow:\n",
            "The TensorFlow contrib module will not be included in TensorFlow 2.0.\n",
            "For more information, please see:\n",
            "  * https://github.com/tensorflow/community/blob/master/rfcs/20180907-contrib-sunset.md\n",
            "  * https://github.com/tensorflow/addons\n",
            "  * https://github.com/tensorflow/io (for I/O related ops)\n",
            "If you depend on functionality not listed there, please file an issue.\n",
            "\n",
            "WARNING:tensorflow:From /usr/local/lib/python3.6/dist-packages/tensorflow_core/contrib/layers/python/layers/layers.py:1634: flatten (from tensorflow.python.layers.core) is deprecated and will be removed in a future version.\n",
            "Instructions for updating:\n",
            "Use keras.layers.flatten instead.\n",
            "WARNING:tensorflow:From /usr/local/lib/python3.6/dist-packages/tensorflow_core/python/layers/core.py:332: Layer.apply (from tensorflow.python.keras.engine.base_layer) is deprecated and will be removed in a future version.\n",
            "Instructions for updating:\n",
            "Please use `layer.__call__` method instead.\n",
            "WARNING:tensorflow:From <ipython-input-9-6c581c49cf0f>:30: softmax_cross_entropy_with_logits (from tensorflow.python.ops.nn_ops) is deprecated and will be removed in a future version.\n",
            "Instructions for updating:\n",
            "\n",
            "Future major versions of TensorFlow will allow gradients to flow\n",
            "into the labels input on backprop by default.\n",
            "\n",
            "See `tf.nn.softmax_cross_entropy_with_logits_v2`.\n",
            "\n"
          ],
          "name": "stdout"
        }
      ]
    },
    {
      "cell_type": "markdown",
      "metadata": {
        "id": "9k4J4VGNRmXv",
        "colab_type": "text"
      },
      "source": [
        "## Train the model"
      ]
    },
    {
      "cell_type": "code",
      "metadata": {
        "id": "B4Xa8BdbRmXv",
        "colab_type": "code",
        "colab": {
          "base_uri": "https://localhost:8080/",
          "height": 686
        },
        "outputId": "144b2603-5c8a-4e39-af5a-97fc924e7e0f"
      },
      "source": [
        "init = tf.global_variables_initializer()\n",
        "n_batches = int(np.ceil(X_train.shape[0] / float(batch_size)))\n",
        "costs = []\n",
        "\n",
        "with tf.Session() as sess:\n",
        "    sess.run(init)\n",
        "    \n",
        "    for epoch in range(n_epochs):\n",
        "        minibatch_cost = 0.\n",
        "        for batch_idx in range(n_batches):\n",
        "            # BEGIN CODE HERE\n",
        "            _ , temp_cost = sess.run([optimizer, cost], feed_dict={X_input: X_train, Y_output: Y_train})\n",
        "            # END CODE HERE\n",
        "            minibatch_cost += temp_cost / n_batches\n",
        "\n",
        "        if epoch % 1 == 0:\n",
        "            print (\"Cost after epoch %i: %f\" % (epoch, minibatch_cost))\n",
        "            \n",
        "        costs.append(minibatch_cost) \n",
        "        \n",
        "    plt.plot(np.squeeze(costs))\n",
        "    plt.ylabel('cost')\n",
        "    plt.xlabel('iterations (per tens)')\n",
        "    plt.title(\"Learning rate =\" + str(learning_rate))\n",
        "    plt.show()\n",
        "\n",
        "    # Calculate the correct predictions\n",
        "    predict_op = tf.argmax(Z4, 1)\n",
        "    correct_prediction = tf.equal(predict_op, tf.argmax(Y_output, 1))\n",
        "\n",
        "    # Calculate accuracy on the test set\n",
        "    accuracy = tf.reduce_mean(tf.cast(correct_prediction, \"float\"))\n",
        "    print(accuracy)\n",
        "    train_accuracy = accuracy.eval({X_input: X_train, Y_output: Y_train})\n",
        "    test_accuracy = accuracy.eval({X_input: X_test, Y_output: Y_test})\n",
        "    print(\"Train Accuracy:\", train_accuracy)\n",
        "    print(\"Test Accuracy:\", test_accuracy)\n",
        "    \n"
      ],
      "execution_count": 10,
      "outputs": [
        {
          "output_type": "stream",
          "text": [
            "Cost after epoch 0: 1.873551\n",
            "Cost after epoch 1: 1.610500\n",
            "Cost after epoch 2: 1.555859\n",
            "Cost after epoch 3: 1.527893\n",
            "Cost after epoch 4: 1.509228\n",
            "Cost after epoch 5: 1.499522\n",
            "Cost after epoch 6: 1.491867\n",
            "Cost after epoch 7: 1.486615\n",
            "Cost after epoch 8: 1.482444\n",
            "Cost after epoch 9: 1.478315\n",
            "Cost after epoch 10: 1.470938\n",
            "Cost after epoch 11: 1.466681\n",
            "Cost after epoch 12: 1.463022\n",
            "Cost after epoch 13: 1.460099\n",
            "Cost after epoch 14: 1.456192\n",
            "Cost after epoch 15: 1.453529\n",
            "Cost after epoch 16: 1.451583\n",
            "Cost after epoch 17: 1.448846\n",
            "Cost after epoch 18: 1.446779\n",
            "Cost after epoch 19: 1.445176\n"
          ],
          "name": "stdout"
        },
        {
          "output_type": "display_data",
          "data": {
            "image/png": "[encoded data removed]",
            "text/plain": [
              "<Figure size 432x288 with 1 Axes>"
            ]
          },
          "metadata": {
            "tags": []
          }
        },
        {
          "output_type": "stream",
          "text": [
            "Tensor(\"Mean_1:0\", shape=(), dtype=float32)\n",
            "Train Accuracy: 0.5202\n",
            "Test Accuracy: 0.4325\n"
          ],
          "name": "stdout"
        }
      ]
    },
    {
      "cell_type": "markdown",
      "metadata": {
        "id": "YUrFW59oRmXx",
        "colab_type": "text"
      },
      "source": [
        "The train accuracy after 20 epochs should be around 0.5. You do not have to push the training further than this, just make sure that the loss decreases and that the accuracy is reasonable. We will now create the same network in Keras."
      ]
    },
    {
      "cell_type": "markdown",
      "metadata": {
        "id": "Dz8VKTbSRmXy",
        "colab_type": "text"
      },
      "source": [
        "# 2. CNN with keras"
      ]
    },
    {
      "cell_type": "markdown",
      "metadata": {
        "id": "8K_b_cDnRmXz",
        "colab_type": "text"
      },
      "source": [
        "We are now going to create the same network with Keras. As we shall see, the interface is quite simplified in comparison to Tensorflow.\n",
        "\n",
        "## We first import keras packages"
      ]
    },
    {
      "cell_type": "code",
      "metadata": {
        "id": "P5UqwcjHRmXz",
        "colab_type": "code",
        "colab": {
          "base_uri": "https://localhost:8080/",
          "height": 34
        },
        "outputId": "63dc2e66-5e7b-414c-ecf3-0ff60693b8a4"
      },
      "source": [
        "import keras\n",
        "from keras.models import Sequential, Model\n",
        "from keras.layers import Dense, Dropout, Activation, Flatten, Input\n",
        "from keras.layers import Conv2D, MaxPooling2D\n",
        "from keras import optimizers\n",
        "print(keras.__version__)"
      ],
      "execution_count": 11,
      "outputs": [
        {
          "output_type": "stream",
          "text": [
            "2.2.5\n"
          ],
          "name": "stdout"
        }
      ]
    },
    {
      "cell_type": "markdown",
      "metadata": {
        "id": "yWflYePZRmX1",
        "colab_type": "text"
      },
      "source": [
        "## We define the parameters of the model, and of the training"
      ]
    },
    {
      "cell_type": "code",
      "metadata": {
        "id": "iDztBsTgRmX2",
        "colab_type": "code",
        "colab": {}
      },
      "source": [
        "input_shape = (img_rows, img_cols, nb_channels)"
      ],
      "execution_count": 0,
      "outputs": []
    },
    {
      "cell_type": "markdown",
      "metadata": {
        "id": "7W7je-2QRmX5",
        "colab_type": "text"
      },
      "source": [
        "## Creating the CNN model in Keras using the Sequential API\n",
        "\n",
        "Keras has a simple way of adding layers to create a neural network. First, you can indicate to Keras that the model is 'sequential', that is to say, a straight-forward CNN. For this, you can use the following function :\n",
        "- ```model = Sequential()```\n",
        "\n",
        "After this, you can add layers with the function.\n",
        "\n",
        "- ```model.add()```\n",
        "\n",
        "You can then use the ```Conv2D```, ```Activation```, ```MaxPooling2D```, ```Flatten``` and ```Dense``` (fully connected) functions to specify different layer types. Note that in the case of this approach, you will have to specify the input image size in the first layer of the network. So, for example, if the first layer is convolutional :\n",
        "\n",
        "- model = Sequential()\n",
        "- model.add(Conv2D(nb_filters, kernel_size, input_shape=input_shape, name='Conv1'))\n",
        "\n",
        "\n",
        "## Creating the CNN model in Keras using the standard API\n",
        "\n",
        "Otherwise, another approach to creating the model is to explicitly create the input variable, and just cascade the different functions, as in Tensorflow. So, for the same example, we would have :\n",
        "\n",
        "- input = Input(shape=(img_rows,img_cols,nb_channels))\n",
        "- output = Conv2D(input_shape=self.img_shape,filters=nb_filters,kernel_size=kernel_size)(input)\n",
        "- model = Model(input, output)\n",
        "\n",
        "Create your CNN now with the network parameters specified above."
      ]
    },
    {
      "cell_type": "code",
      "metadata": {
        "id": "usZEEbU1RmX6",
        "colab_type": "code",
        "colab": {
          "base_uri": "https://localhost:8080/",
          "height": 105
        },
        "outputId": "86445805-56c9-4d24-ecd3-226f7bd9dc6e"
      },
      "source": [
        "# --- START CODE HERE\n",
        "model = Sequential()\n",
        "model.add(Conv2D(input_shape=input_shape, filters=32, kernel_size=(3,3), padding='same'))\n",
        "model.add(Activation('relu'))\n",
        "model.add(Conv2D(filters=32, kernel_size=(3,3), padding='same'))\n",
        "model.add(Activation('relu'))\n",
        "model.add(MaxPooling2D(pool_size=(2,2), strides=(2,2), padding='same'))\n",
        "model.add(Conv2D(filters=32, kernel_size=(3,3), padding='same'))\n",
        "model.add(Activation('relu'))\n",
        "model.add(MaxPooling2D(pool_size=(2,2), strides=(2,2), padding='same'))\n",
        "model.add(Flatten())\n",
        "model.add(Dense(units=10))\n",
        "model.add(Activation('softmax'))\n",
        "\n",
        "# --- END CODE HERE"
      ],
      "execution_count": 13,
      "outputs": [
        {
          "output_type": "stream",
          "text": [
            "WARNING:tensorflow:From /usr/local/lib/python3.6/dist-packages/keras/backend/tensorflow_backend.py:66: The name tf.get_default_graph is deprecated. Please use tf.compat.v1.get_default_graph instead.\n",
            "\n",
            "WARNING:tensorflow:From /usr/local/lib/python3.6/dist-packages/keras/backend/tensorflow_backend.py:4432: The name tf.random_uniform is deprecated. Please use tf.random.uniform instead.\n",
            "\n"
          ],
          "name": "stdout"
        }
      ]
    },
    {
      "cell_type": "markdown",
      "metadata": {
        "id": "ED8Ou1HKRmX9",
        "colab_type": "text"
      },
      "source": [
        "## Compile the model\n",
        "\n",
        "We define here the ```loss``` that we will minimize and the ```optimizer``` (the specific algorithm used to perform gradient descent)."
      ]
    },
    {
      "cell_type": "code",
      "metadata": {
        "id": "D528t4RxRmX9",
        "colab_type": "code",
        "colab": {
          "base_uri": "https://localhost:8080/",
          "height": 105
        },
        "outputId": "65fa7334-0e5c-4374-b889-eb94ebdb7e88"
      },
      "source": [
        "model.compile(loss='categorical_crossentropy',\n",
        "              optimizer=optimizers.Adam(lr=learning_rate),\n",
        "              metrics=['accuracy'])"
      ],
      "execution_count": 14,
      "outputs": [
        {
          "output_type": "stream",
          "text": [
            "WARNING:tensorflow:From /usr/local/lib/python3.6/dist-packages/keras/optimizers.py:793: The name tf.train.Optimizer is deprecated. Please use tf.compat.v1.train.Optimizer instead.\n",
            "\n",
            "WARNING:tensorflow:From /usr/local/lib/python3.6/dist-packages/keras/backend/tensorflow_backend.py:3576: The name tf.log is deprecated. Please use tf.math.log instead.\n",
            "\n"
          ],
          "name": "stdout"
        }
      ]
    },
    {
      "cell_type": "markdown",
      "metadata": {
        "id": "qe6p2m6SRmYA",
        "colab_type": "text"
      },
      "source": [
        "## We display a summary of the model created (but not yet trained)"
      ]
    },
    {
      "cell_type": "code",
      "metadata": {
        "id": "u7SBylxrRmYA",
        "colab_type": "code",
        "colab": {
          "base_uri": "https://localhost:8080/",
          "height": 527
        },
        "outputId": "2b62681f-4ddf-4320-c062-c59ef1e58fef"
      },
      "source": [
        "model.summary()"
      ],
      "execution_count": 15,
      "outputs": [
        {
          "output_type": "stream",
          "text": [
            "Model: \"sequential_1\"\n",
            "_________________________________________________________________\n",
            "Layer (type)                 Output Shape              Param #   \n",
            "=================================================================\n",
            "conv2d_1 (Conv2D)            (None, 32, 32, 32)        896       \n",
            "_________________________________________________________________\n",
            "activation_1 (Activation)    (None, 32, 32, 32)        0         \n",
            "_________________________________________________________________\n",
            "conv2d_2 (Conv2D)            (None, 32, 32, 32)        9248      \n",
            "_________________________________________________________________\n",
            "activation_2 (Activation)    (None, 32, 32, 32)        0         \n",
            "_________________________________________________________________\n",
            "max_pooling2d_1 (MaxPooling2 (None, 16, 16, 32)        0         \n",
            "_________________________________________________________________\n",
            "conv2d_3 (Conv2D)            (None, 16, 16, 32)        9248      \n",
            "_________________________________________________________________\n",
            "activation_3 (Activation)    (None, 16, 16, 32)        0         \n",
            "_________________________________________________________________\n",
            "max_pooling2d_2 (MaxPooling2 (None, 8, 8, 32)          0         \n",
            "_________________________________________________________________\n",
            "flatten_1 (Flatten)          (None, 2048)              0         \n",
            "_________________________________________________________________\n",
            "dense_1 (Dense)              (None, 10)                20490     \n",
            "_________________________________________________________________\n",
            "activation_4 (Activation)    (None, 10)                0         \n",
            "=================================================================\n",
            "Total params: 39,882\n",
            "Trainable params: 39,882\n",
            "Non-trainable params: 0\n",
            "_________________________________________________________________\n"
          ],
          "name": "stdout"
        }
      ]
    },
    {
      "cell_type": "markdown",
      "metadata": {
        "id": "JinFR1cSRmYD",
        "colab_type": "text"
      },
      "source": [
        "## Perform the training"
      ]
    },
    {
      "cell_type": "code",
      "metadata": {
        "id": "PeHROZmTRmYE",
        "colab_type": "code",
        "colab": {
          "base_uri": "https://localhost:8080/",
          "height": 1000
        },
        "outputId": "480eb780-74a1-4c9b-e085-9f124c350f61"
      },
      "source": [
        "model.fit(X_train, Y_train,\n",
        "          batch_size=batch_size, \n",
        "          nb_epoch=n_epochs,\n",
        "          verbose=1, \n",
        "          validation_data=(X_test, Y_test))"
      ],
      "execution_count": 16,
      "outputs": [
        {
          "output_type": "stream",
          "text": [
            "WARNING:tensorflow:From /usr/local/lib/python3.6/dist-packages/tensorflow_core/python/ops/math_grad.py:1424: where (from tensorflow.python.ops.array_ops) is deprecated and will be removed in a future version.\n",
            "Instructions for updating:\n",
            "Use tf.where in 2.0, which has the same broadcast rule as np.where\n",
            "WARNING:tensorflow:From /usr/local/lib/python3.6/dist-packages/keras/backend/tensorflow_backend.py:1033: The name tf.assign_add is deprecated. Please use tf.compat.v1.assign_add instead.\n",
            "\n"
          ],
          "name": "stdout"
        },
        {
          "output_type": "stream",
          "text": [
            "/usr/local/lib/python3.6/dist-packages/ipykernel_launcher.py:5: UserWarning: The `nb_epoch` argument in `fit` has been renamed `epochs`.\n",
            "  \"\"\"\n"
          ],
          "name": "stderr"
        },
        {
          "output_type": "stream",
          "text": [
            "WARNING:tensorflow:From /usr/local/lib/python3.6/dist-packages/keras/backend/tensorflow_backend.py:1020: The name tf.assign is deprecated. Please use tf.compat.v1.assign instead.\n",
            "\n",
            "Train on 10000 samples, validate on 10000 samples\n",
            "Epoch 1/20\n",
            "WARNING:tensorflow:From /usr/local/lib/python3.6/dist-packages/keras/backend/tensorflow_backend.py:190: The name tf.get_default_session is deprecated. Please use tf.compat.v1.get_default_session instead.\n",
            "\n",
            "WARNING:tensorflow:From /usr/local/lib/python3.6/dist-packages/keras/backend/tensorflow_backend.py:197: The name tf.ConfigProto is deprecated. Please use tf.compat.v1.ConfigProto instead.\n",
            "\n",
            "WARNING:tensorflow:From /usr/local/lib/python3.6/dist-packages/keras/backend/tensorflow_backend.py:207: The name tf.global_variables is deprecated. Please use tf.compat.v1.global_variables instead.\n",
            "\n",
            "WARNING:tensorflow:From /usr/local/lib/python3.6/dist-packages/keras/backend/tensorflow_backend.py:216: The name tf.is_variable_initialized is deprecated. Please use tf.compat.v1.is_variable_initialized instead.\n",
            "\n",
            "WARNING:tensorflow:From /usr/local/lib/python3.6/dist-packages/keras/backend/tensorflow_backend.py:223: The name tf.variables_initializer is deprecated. Please use tf.compat.v1.variables_initializer instead.\n",
            "\n",
            "10000/10000 [==============================] - 2s 194us/step - loss: 2.0665 - acc: 0.2369 - val_loss: 1.9391 - val_acc: 0.3162\n",
            "Epoch 2/20\n",
            "10000/10000 [==============================] - 1s 139us/step - loss: 1.9163 - acc: 0.3106 - val_loss: 1.9185 - val_acc: 0.3165\n",
            "Epoch 3/20\n",
            "10000/10000 [==============================] - 1s 137us/step - loss: 1.8227 - acc: 0.3412 - val_loss: 1.7293 - val_acc: 0.3787\n",
            "Epoch 4/20\n",
            "10000/10000 [==============================] - 1s 139us/step - loss: 1.7080 - acc: 0.3808 - val_loss: 1.6728 - val_acc: 0.3866\n",
            "Epoch 5/20\n",
            "10000/10000 [==============================] - 1s 141us/step - loss: 1.6441 - acc: 0.3985 - val_loss: 1.6621 - val_acc: 0.3941\n",
            "Epoch 6/20\n",
            "10000/10000 [==============================] - 1s 140us/step - loss: 1.5932 - acc: 0.4189 - val_loss: 1.7121 - val_acc: 0.3778\n",
            "Epoch 7/20\n",
            "10000/10000 [==============================] - 1s 142us/step - loss: 1.5227 - acc: 0.4485 - val_loss: 1.6126 - val_acc: 0.4139\n",
            "Epoch 8/20\n",
            "10000/10000 [==============================] - 1s 136us/step - loss: 1.4637 - acc: 0.4732 - val_loss: 1.5146 - val_acc: 0.4480\n",
            "Epoch 9/20\n",
            "10000/10000 [==============================] - 1s 139us/step - loss: 1.4320 - acc: 0.4829 - val_loss: 1.5167 - val_acc: 0.4541\n",
            "Epoch 10/20\n",
            "10000/10000 [==============================] - 1s 138us/step - loss: 1.3806 - acc: 0.5021 - val_loss: 1.4843 - val_acc: 0.4699\n",
            "Epoch 11/20\n",
            "10000/10000 [==============================] - 1s 136us/step - loss: 1.3565 - acc: 0.5081 - val_loss: 1.5172 - val_acc: 0.4640\n",
            "Epoch 12/20\n",
            "10000/10000 [==============================] - 1s 135us/step - loss: 1.3264 - acc: 0.5215 - val_loss: 1.4838 - val_acc: 0.4730\n",
            "Epoch 13/20\n",
            "10000/10000 [==============================] - 1s 136us/step - loss: 1.3165 - acc: 0.5229 - val_loss: 1.4709 - val_acc: 0.4757\n",
            "Epoch 14/20\n",
            "10000/10000 [==============================] - 1s 137us/step - loss: 1.2930 - acc: 0.5364 - val_loss: 1.4722 - val_acc: 0.4826\n",
            "Epoch 15/20\n",
            "10000/10000 [==============================] - 1s 140us/step - loss: 1.2765 - acc: 0.5390 - val_loss: 1.4703 - val_acc: 0.4877\n",
            "Epoch 16/20\n",
            "10000/10000 [==============================] - 1s 135us/step - loss: 1.2661 - acc: 0.5444 - val_loss: 1.4917 - val_acc: 0.4705\n",
            "Epoch 17/20\n",
            "10000/10000 [==============================] - 1s 137us/step - loss: 1.2532 - acc: 0.5542 - val_loss: 1.4729 - val_acc: 0.4844\n",
            "Epoch 18/20\n",
            "10000/10000 [==============================] - 1s 139us/step - loss: 1.2440 - acc: 0.5522 - val_loss: 1.4610 - val_acc: 0.4924\n",
            "Epoch 19/20\n",
            "10000/10000 [==============================] - 1s 136us/step - loss: 1.2301 - acc: 0.5626 - val_loss: 1.5287 - val_acc: 0.4900\n",
            "Epoch 20/20\n",
            "10000/10000 [==============================] - 1s 134us/step - loss: 1.2445 - acc: 0.5553 - val_loss: 1.4092 - val_acc: 0.5020\n"
          ],
          "name": "stdout"
        },
        {
          "output_type": "execute_result",
          "data": {
            "text/plain": [
              "<keras.callbacks.History at 0x7fc9a021f320>"
            ]
          },
          "metadata": {
            "tags": []
          },
          "execution_count": 16
        }
      ]
    },
    {
      "cell_type": "markdown",
      "metadata": {
        "id": "-2b_dey4RmYJ",
        "colab_type": "text"
      },
      "source": [
        "## We evaluate the performances of the model on the test data"
      ]
    },
    {
      "cell_type": "code",
      "metadata": {
        "id": "7pDrY0caRmYK",
        "colab_type": "code",
        "colab": {
          "base_uri": "https://localhost:8080/",
          "height": 51
        },
        "outputId": "ee858e5d-48e7-40ca-be68-d1d6b776aed1"
      },
      "source": [
        "score = model.evaluate(X_test, Y_test, verbose=False)\n",
        "print('Test score:', score[0])\n",
        "print('Test accuracy:', score[1])"
      ],
      "execution_count": 17,
      "outputs": [
        {
          "output_type": "stream",
          "text": [
            "Test score: 1.4092111856460572\n",
            "Test accuracy: 0.502\n"
          ],
          "name": "stdout"
        }
      ]
    },
    {
      "cell_type": "markdown",
      "metadata": {
        "id": "qLh7UvbxRmYO",
        "colab_type": "text"
      },
      "source": [
        "Let's take a look at what the network has learned. What do you think ?"
      ]
    },
    {
      "cell_type": "code",
      "metadata": {
        "id": "9X6VpOOeRmYP",
        "colab_type": "code",
        "colab": {
          "base_uri": "https://localhost:8080/",
          "height": 338
        },
        "outputId": "b3b31369-d218-4599-afab-c387ff0687f8"
      },
      "source": [
        "plt.figure(figsize=(10, 6))\n",
        "for idx,i in enumerate(range(100,110)):\n",
        "    plt.subplot(2, 5, idx+1)\n",
        "    rand_ind = np.random.randint(0,X_test.shape[0])\n",
        "    predicted_class = np.argmax(np.squeeze(model.predict(np.expand_dims(X_test[rand_ind,:,:,:],axis=0))))\n",
        "    plt.imshow(X_test[rand_ind,:,:,:])\n",
        "    plt.title(cifar_10_list[int(predicted_class)])"
      ],
      "execution_count": 18,
      "outputs": [
        {
          "output_type": "display_data",
          "data": {
            "image/png": "[encoded data removed]",
            "text/plain": [
              "<Figure size 720x432 with 10 Axes>"
            ]
          },
          "metadata": {
            "tags": []
          }
        }
      ]
    },
    {
      "cell_type": "markdown",
      "metadata": {
        "id": "q4ZIe1FbRmYS",
        "colab_type": "text"
      },
      "source": [
        "## Now, display all (32) trained filters of the first layer\n",
        "\n",
        "You can explore the network parameters easily with Keras. For example ```model.layers``` is a list of the layers of the network. Each element of the network contains the information necessary for this layer. To show the content of a layer i, type :\n",
        "\n",
        "```dir(model.layers[i])```\n",
        "\n",
        "Display all (32) trained filters of the first layer :"
      ]
    },
    {
      "cell_type": "code",
      "metadata": {
        "id": "Ip8y72RiRmYT",
        "colab_type": "code",
        "colab": {
          "base_uri": "https://localhost:8080/",
          "height": 425
        },
        "outputId": "a17084ab-4e9d-4a56-c7f5-d1abd0bcf1f2"
      },
      "source": [
        "print(model.layers[0].filters)\n",
        "print(model.layers[0].kernel_size)\n",
        "print(model.layers[0].get_weights()[0].shape)\n",
        "filters = model.layers[0].get_weights()[0]\n",
        "#print(filters[0])\n",
        "plt.figure(figsize=(10, 6))\n",
        "for num in range(0,32):\n",
        "    plt.subplot(8, 4, num+1)\n",
        "    # --- START CODE HERE\n",
        "    plt.imshow(filters[0][:, :, num])\n",
        "    # --- END CODE HERE    "
      ],
      "execution_count": 19,
      "outputs": [
        {
          "output_type": "stream",
          "text": [
            "32\n",
            "(3, 3)\n",
            "(3, 3, 3, 32)\n"
          ],
          "name": "stdout"
        },
        {
          "output_type": "display_data",
          "data": {
            "image/png": "[encoded data removed]",
            "text/plain": [
              "<Figure size 720x432 with 32 Axes>"
            ]
          },
          "metadata": {
            "tags": []
          }
        }
      ]
    },
    {
      "cell_type": "markdown",
      "metadata": {
        "id": "spsvd_9rRmYV",
        "colab_type": "text"
      },
      "source": [
        "# Evaluation\n",
        "\n",
        "To evaluate the work, you should rate the code for \n",
        "- 1) Tensorflow, declaration of inputs and weights : 2 points\n",
        "- 2) Tensorflow, declaration of model : 2 points\n",
        "- 3) Tensorflow, training : 2 points\n",
        "- 4) Keras : model : 2 points\n",
        "- 5) Keras : displaying weights : 2 points\n",
        "\n",
        "Each correct answer (correct formula/code and code runs) gives 2 points. Total over 10 points."
      ]
    }
  ]
}